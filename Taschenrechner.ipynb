{
  "nbformat": 4,
  "nbformat_minor": 0,
  "metadata": {
    "colab": {
      "provenance": [],
      "authorship_tag": "ABX9TyO0LQOj/zMbdnwDhDgmL4SL",
      "include_colab_link": true
    },
    "kernelspec": {
      "name": "python3",
      "display_name": "Python 3"
    },
    "language_info": {
      "name": "python"
    }
  },
  "cells": [
    {
      "cell_type": "markdown",
      "metadata": {
        "id": "view-in-github",
        "colab_type": "text"
      },
      "source": [
        "<a href=\"https://colab.research.google.com/github/reimhunter/addiern-/blob/beispiele/Taschenrechner.ipynb\" target=\"_parent\"><img src=\"https://colab.research.google.com/assets/colab-badge.svg\" alt=\"Open In Colab\"/></a>"
      ]
    },
    {
      "cell_type": "code",
      "execution_count": 1,
      "metadata": {
        "colab": {
          "base_uri": "https://localhost:8080/"
        },
        "id": "_j0BpomfpSvP",
        "outputId": "9232f515-94b1-4c51-9f98-adabbd7828fd"
      },
      "outputs": [
        {
          "output_type": "stream",
          "name": "stdout",
          "text": [
            "Wählen Sie eine Operation.\n",
            "1.Addition\n",
            "2.Subtraktion\n",
            "3.Multiplikation\n",
            "4.Division\n",
            "Geben Sie Ihre Wahl (1/2/3/4) ein: 3\n",
            "Geben Sie die erste Zahl ein: 34\n",
            "Geben Sie die zweite Zahl ein: 5\n",
            "34.0 * 5.0 = 170.0\n"
          ]
        }
      ],
      "source": [
        "def add(x, y):\n",
        "    return x + y\n",
        "\n",
        "def subtract(x, y):\n",
        "    return x - y\n",
        "\n",
        "def multiply(x, y):\n",
        "    return x * y\n",
        "\n",
        "def divide(x, y):\n",
        "    return x / y\n",
        "\n",
        "print(\"Wählen Sie eine Operation.\")\n",
        "print(\"1.Addition\")\n",
        "print(\"2.Subtraktion\")\n",
        "print(\"3.Multiplikation\")\n",
        "print(\"4.Division\")\n",
        "\n",
        "while True:\n",
        "    # Eingabe des Benutzers abfragen\n",
        "    choice = input(\"Geben Sie Ihre Wahl (1/2/3/4) ein: \")\n",
        "\n",
        "    # Überprüfen, ob die Eingabe eine gültige Operation ist\n",
        "    if choice in ('1', '2', '3', '4'):\n",
        "        num1 = float(input(\"Geben Sie die erste Zahl ein: \"))\n",
        "        num2 = float(input(\"Geben Sie die zweite Zahl ein: \"))\n",
        "\n",
        "        if choice == '1':\n",
        "            print(num1, \"+\", num2, \"=\", add(num1, num2))\n",
        "\n",
        "        elif choice == '2':\n",
        "            print(num1, \"-\", num2, \"=\", subtract(num1, num2))\n",
        "\n",
        "        elif choice == '3':\n",
        "            print(num1, \"*\", num2, \"=\", multiply(num1, num2))\n",
        "\n",
        "        elif choice == '4':\n",
        "            print(num1, \"/\", num2, \"=\", divide(num1, num2))\n",
        "        break\n",
        "    else:\n",
        "        print(\"Ungültige Eingabe\")\n"
      ]
    }
  ]
}