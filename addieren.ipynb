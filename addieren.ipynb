{
  "nbformat": 4,
  "nbformat_minor": 0,
  "metadata": {
    "colab": {
      "provenance": [],
      "toc_visible": true,
      "mount_file_id": "1DNyMpFHEfKhyXaz55RvtbOZDx5JXRkRs",
      "authorship_tag": "ABX9TyM711HVsd7f8M8G6y53+SyJ",
      "include_colab_link": true
    },
    "kernelspec": {
      "name": "python3",
      "display_name": "Python 3"
    },
    "language_info": {
      "name": "python"
    }
  },
  "cells": [
    {
      "cell_type": "markdown",
      "metadata": {
        "id": "view-in-github",
        "colab_type": "text"
      },
      "source": [
        "<a href=\"https://colab.research.google.com/github/reimhunter/addiern-/blob/main/addieren.ipynb\" target=\"_parent\"><img src=\"https://colab.research.google.com/assets/colab-badge.svg\" alt=\"Open In Colab\"/></a>"
      ]
    },
    {
      "cell_type": "code",
      "source": [
        "def addieren(wert1, wert2):\n",
        "  summe= wert1 + wert2\n",
        "  print(summe)\n",
        "\n",
        "addieren(7,8)\n",
        "\n",
        "print(\"Super !!!!\")\n",
        "\n",
        "def hallo():\n",
        "  print(\"Hallo Welt\")\n",
        "\n",
        "hallo()\n",
        "\n",
        "def nacht():\n",
        "  print(\"Gute Nacht !!!!!\")\n",
        "\n",
        "nacht()\n"
      ],
      "metadata": {
        "colab": {
          "base_uri": "https://localhost:8080/"
        },
        "id": "U7jp7YBCAoFQ",
        "outputId": "915bfd44-9f23-4fa6-c2de-915444109019"
      },
      "execution_count": 1,
      "outputs": [
        {
          "output_type": "stream",
          "name": "stdout",
          "text": [
            "15\n",
            "Super !!!!\n",
            "Hallo Welt\n",
            "Gute Nacht !!!!!\n"
          ]
        }
      ]
    },
    {
      "cell_type": "markdown",
      "source": [
        "Das ist ein Test für eine funktion namens \"addieren:\"\n"
      ],
      "metadata": {
        "id": "42lrLhkrNi9C"
      }
    },
    {
      "cell_type": "markdown",
      "source": [],
      "metadata": {
        "id": "zKPFIoanN91n"
      }
    }
  ]
}