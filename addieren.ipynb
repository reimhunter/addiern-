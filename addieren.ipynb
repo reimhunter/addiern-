{
  "nbformat": 4,
  "nbformat_minor": 0,
  "metadata": {
    "colab": {
      "provenance": [],
      "toc_visible": true,
      "history_visible": true,
      "mount_file_id": "1DNyMpFHEfKhyXaz55RvtbOZDx5JXRkRs",
      "authorship_tag": "ABX9TyNG/5e2wdxzgx2nJHyiIplz",
      "include_colab_link": true
    },
    "kernelspec": {
      "name": "python3",
      "display_name": "Python 3"
    },
    "language_info": {
      "name": "python"
    }
  },
  "cells": [
    {
      "cell_type": "markdown",
      "metadata": {
        "id": "view-in-github",
        "colab_type": "text"
      },
      "source": [
        "<a href=\"https://colab.research.google.com/github/reimhunter/addiern-/blob/main/addieren.ipynb\" target=\"_parent\"><img src=\"https://colab.research.google.com/assets/colab-badge.svg\" alt=\"Open In Colab\"/></a>"
      ]
    },
    {
      "cell_type": "code",
      "source": [
        "def addieren(wert1, wert2):\n",
        "  summe= wert1 + wert2\n",
        "  print(summe)\n",
        "\n",
        "addieren(7,8)\n",
        "\n",
        "print(\"Super !!!!\")\n",
        "print(\"Gute Nacht, und schlaf gut !!!!\")"
      ],
      "metadata": {
        "colab": {
          "base_uri": "https://localhost:8080/"
        },
        "id": "U7jp7YBCAoFQ",
        "outputId": "3e6f5e9e-d9c1-451a-cae8-ad6adb03c4df"
      },
      "execution_count": 7,
      "outputs": [
        {
          "output_type": "stream",
          "name": "stdout",
          "text": [
            "15\n",
            "Super !!!!\n",
            "Gute Nacht, und schlaf gut !!!!\n"
          ]
        }
      ]
    },
    {
      "cell_type": "code",
      "source": [
        "def multiplizieren(wert1a, wert2b):\n",
        "  summea=  wert1a * wert2b\n",
        "  print(summea)\n",
        "\n",
        "  multiplizieren(3,2)\n",
        "\n",
        "  print(\"Gut gemacht!!! \")"
      ],
      "metadata": {
        "id": "9DEiY2Dncsoa"
      },
      "execution_count": 12,
      "outputs": []
    }
  ]
}