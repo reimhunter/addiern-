{
  "nbformat": 4,
  "nbformat_minor": 0,
  "metadata": {
    "colab": {
      "provenance": [],
      "toc_visible": true,
      "mount_file_id": "1DNyMpFHEfKhyXaz55RvtbOZDx5JXRkRs",
      "authorship_tag": "ABX9TyOt7KH3inCe6iPcIPXAcNOw",
      "include_colab_link": true
    },
    "kernelspec": {
      "name": "python3",
      "display_name": "Python 3"
    },
    "language_info": {
      "name": "python"
    }
  },
  "cells": [
    {
      "cell_type": "markdown",
      "metadata": {
        "id": "view-in-github",
        "colab_type": "text"
      },
      "source": [
        "<a href=\"https://colab.research.google.com/github/reimhunter/addiern-/blob/main/addieren.ipynb\" target=\"_parent\"><img src=\"https://colab.research.google.com/assets/colab-badge.svg\" alt=\"Open In Colab\"/></a>"
      ]
    },
    {
      "cell_type": "code",
      "source": [
        "def addieren(wert1, wert2):\n",
        "  summe= wert1 + wert2\n",
        "  print(summe)\n",
        "\n",
        "addieren(7,8)\n",
        "\n",
        "print(\"Super !!!!\")\n",
        "print(\"Gute Nacht, und schlaf gut !!!!\")"
      ],
      "metadata": {
        "colab": {
          "base_uri": "https://localhost:8080/"
        },
        "id": "U7jp7YBCAoFQ",
        "outputId": "7a76a219-eb95-4682-decf-681cf30fd86b"
      },
      "execution_count": 3,
      "outputs": [
        {
          "output_type": "stream",
          "name": "stdout",
          "text": [
            "15\n",
            "Super !!!!\n",
            "Gute Nacht, und schlaf gut !!!!\n"
          ]
        }
      ]
    }
  ]
}